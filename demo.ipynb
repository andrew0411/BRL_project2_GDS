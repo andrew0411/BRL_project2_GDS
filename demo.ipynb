{
 "cells": [
  {
   "cell_type": "code",
   "execution_count": 1,
   "metadata": {},
   "outputs": [],
   "source": [
    "import numpy as np\n",
    "import pandas as pd\n",
    "from genetic_programming.genetics import SymbolicRegressor\n",
    "from sklearn.model_selection import train_test_split\n",
    "from sklearn.metrics import r2_score\n",
    "from sklearn.preprocessing import StandardScaler\n",
    "from sklearn.linear_model import LinearRegression, Ridge, Lasso\n",
    "import warnings\n",
    "\n",
    "warnings.filterwarnings(\"ignore\")"
   ]
  },
  {
   "cell_type": "code",
   "execution_count": 2,
   "metadata": {},
   "outputs": [],
   "source": [
    "x = pd.read_csv('./data/70_dataset.csv')\n",
    "x.set_index('compound', inplace=True)\n",
    "x = x.drop(x.columns[x.nunique() == 1], axis=1)\n",
    "y = x.pop('target')\n",
    "x = x\n",
    "feature_name = x.columns"
   ]
  },
  {
   "cell_type": "code",
   "execution_count": 3,
   "metadata": {},
   "outputs": [],
   "source": [
    "def assign(X_list):\n",
    "    x = X_list[0]\n",
    "    for i in range(len(X_list)-1):\n",
    "        x = np.c_[x, X_list[i+1]]\n",
    "    return x\n",
    "\n",
    "def LR(x_tr, x_ts, y_tr, y_ts, alpha, dimension):\n",
    "    ols = Ridge(alpha=alpha)\n",
    "    model = ols.fit(x_tr, y_tr)\n",
    "    pred_tr = model.predict(x_tr)\n",
    "    pred_ts = model.predict(x_ts)\n",
    "\n",
    "    tr_result = r2_score(y_tr, pred_tr)\n",
    "    ts_result = r2_score(y_ts, pred_ts)\n",
    "\n",
    "    return pred_tr, pred_ts, tr_result, ts_result"
   ]
  },
  {
   "cell_type": "code",
   "execution_count": 4,
   "metadata": {},
   "outputs": [
    {
     "name": "stdout",
     "output_type": "stream",
     "text": [
      "1 Dimension - Training : 0.3930903772050588 | Test : 0.624309541113151\n",
      "2 Dimension - Training : 0.43860766083099756 | Test : 0.6342259462168646\n",
      "3 Dimension - Training : 0.5335112978871552 | Test : 0.6373142487103456\n",
      "4 Dimension - Training : 0.5397992799670179 | Test : 0.6402755666470916\n",
      "5 Dimension - Training : 0.5447959901016661 | Test : 0.6426255596488246\n",
      "6 Dimension - Training : 0.5659931126309901 | Test : 0.6469524167510123\n",
      "7 Dimension - Training : 0.584989584537525 | Test : 0.6641793341548861\n",
      "8 Dimension - Training : 0.6053994173902437 | Test : 0.6501632147426832\n",
      "9 Dimension - Training : 0.6054045375126402 | Test : 0.6501639386246535\n",
      "10 Dimension - Training : 0.6054096573932853 | Test : 0.6501646624782218\n"
     ]
    }
   ],
   "source": [
    "x_tr, x_ts, y_tr, y_ts = train_test_split(x, y, test_size=0.25, shuffle=True, random_state=0)\n",
    "\n",
    "list_of_iter_result = []\n",
    "list_of_iter_data = []\n",
    "\n",
    "x_tr_data, x_ts_data, y_tr_data, y_ts_data = [x_tr], [x_ts], [y_tr], [y_ts]\n",
    "\n",
    "for d in range(10):\n",
    "    ## You can change hyperparameters in here (population, generation, etc)\n",
    "    gp = SymbolicRegressor(population_size=1000, generations=20, init_depth=(1, 2), metric='pearson',\n",
    "                            feature_names=feature_name, parsimony_coefficient=0.02,\n",
    "                            tournament_size=100, stopping_criteria=0.85, low_memory=True, n_jobs=6)\n",
    "\n",
    "\n",
    "    gp.fit(x_tr_data[0], y_tr_data[-1])\n",
    "\n",
    "    x_tr_descriptor = gp.predict(x_tr_data[0]).reshape(-1, 1)\n",
    "    x_ts_descriptor = gp.predict(x_ts_data[0]).reshape(-1, 1)\n",
    "\n",
    "    \n",
    "\n",
    "    x_tr_data.append(x_tr_descriptor)\n",
    "    x_ts_data.append(x_ts_descriptor)\n",
    "    \n",
    "\n",
    "    program = str(gp._program)\n",
    "\n",
    "    X_tr, X_ts = x_tr_data[1:], x_ts_data[1:]\n",
    "\n",
    "    X_tr = assign(X_tr)\n",
    "    X_ts = assign(X_ts)\n",
    "\n",
    "    pred_tr, pred_ts, tr_result, ts_result = LR(X_tr, X_ts, y_tr_data[0], y_ts_data[0], 1, d + 1)\n",
    "\n",
    "    res_tr, res_ts = y_tr_data[0] - pred_tr, y_ts_data[0] - pred_ts\n",
    "    y_tr_data.append(res_tr)\n",
    "    y_ts_data.append(res_ts)\n",
    "\n",
    "    print(f'{d+1} Dimension - Training : {tr_result} | Test : {ts_result}')\n",
    "\n",
    "list_of_data = [x_tr_data, x_ts_data, y_tr_data, y_ts_data]\n",
    "\n",
    "list_of_iter_data.append(list_of_data)"
   ]
  }
 ],
 "metadata": {
  "kernelspec": {
   "display_name": "base",
   "language": "python",
   "name": "python3"
  },
  "language_info": {
   "codemirror_mode": {
    "name": "ipython",
    "version": 3
   },
   "file_extension": ".py",
   "mimetype": "text/x-python",
   "name": "python",
   "nbconvert_exporter": "python",
   "pygments_lexer": "ipython3",
   "version": "3.9.13"
  },
  "orig_nbformat": 4
 },
 "nbformat": 4,
 "nbformat_minor": 2
}
