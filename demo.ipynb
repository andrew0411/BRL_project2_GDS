{
 "cells": [
  {
   "cell_type": "code",
   "execution_count": 16,
   "metadata": {},
   "outputs": [],
   "source": [
    "import numpy as np\n",
    "import pandas as pd\n",
    "from genetic_programming.genetics import SymbolicRegressor\n",
    "from sklearn.model_selection import train_test_split\n",
    "from sklearn.metrics import r2_score\n",
    "from sklearn.linear_model import  Ridge\n",
    "import warnings\n",
    "\n",
    "warnings.filterwarnings(\"ignore\")"
   ]
  },
  {
   "cell_type": "code",
   "execution_count": 17,
   "metadata": {},
   "outputs": [],
   "source": [
    "x = pd.read_csv('./data/70_dataset.csv')\n",
    "x.set_index('compound', inplace=True)\n",
    "x = x.drop(x.columns[x.nunique() == 1], axis=1)\n",
    "y = x.pop('target')\n",
    "x = x\n",
    "feature_name = x.columns"
   ]
  },
  {
   "cell_type": "code",
   "execution_count": 18,
   "metadata": {},
   "outputs": [],
   "source": [
    "def assign(X_list):\n",
    "    x = X_list[0]\n",
    "    for i in range(len(X_list)-1):\n",
    "        x = np.c_[x, X_list[i+1]]\n",
    "    return x\n",
    "\n",
    "def LR(x_tr, x_ts, y_tr, y_ts, alpha, dimension):\n",
    "    ols = Ridge(alpha=alpha)\n",
    "    model = ols.fit(x_tr, y_tr)\n",
    "    pred_tr = model.predict(x_tr)\n",
    "    pred_ts = model.predict(x_ts)\n",
    "\n",
    "    tr_result = r2_score(y_tr, pred_tr)\n",
    "    ts_result = r2_score(y_ts, pred_ts)\n",
    "\n",
    "    return pred_tr, pred_ts, tr_result, ts_result"
   ]
  },
  {
   "cell_type": "code",
   "execution_count": 12,
   "metadata": {},
   "outputs": [
    {
     "name": "stdout",
     "output_type": "stream",
     "text": [
      "1 Dimension - div(add(add(DVEtm, Rx), Rx), Vtmx)\n",
      "1 Dimension - Training : 0.4697259353836266 | Test : 0.45896404039867267\n",
      "2 Dimension - LEs\n",
      "2 Dimension - Training : 0.5033195688367174 | Test : 0.5258371305605807\n",
      "3 Dimension - Rtm\n",
      "3 Dimension - Training : 0.516418527612539 | Test : 0.5580810378111847\n",
      "4 Dimension - pow3(pow3(pow3(div(Rtm, BEtmx))))\n",
      "4 Dimension - Training : 0.6330390337884809 | Test : 0.8762437503284182\n",
      "5 Dimension - pow3(div(DVEx, DVEtm))\n",
      "5 Dimension - Training : 0.6799852158103572 | Test : 0.8285923469867899\n",
      "6 Dimension - pow3(pow3(pow3(pow3(pow3(Etm)))))\n",
      "6 Dimension - Training : 0.6981948064183023 | Test : 0.8130522910040505\n",
      "7 Dimension - abs(log(sub(Vtmx, Ntmf)))\n",
      "7 Dimension - Training : 0.7552447163259655 | Test : 0.8301417588185398\n",
      "8 Dimension - log(LEf)\n",
      "8 Dimension - Training : 0.7739460913060383 | Test : 0.8235066472408219\n",
      "9 Dimension - sqrt(inv(sub(Qtm, Ctm)))\n",
      "9 Dimension - Training : 0.7940680398351522 | Test : 0.7725288604965468\n",
      "10 Dimension - log(sub(Nxs, Qtm))\n",
      "10 Dimension - Training : 0.812742025172634 | Test : 0.7570660089343464\n"
     ]
    }
   ],
   "source": [
    "x_tr, x_ts, y_tr, y_ts = train_test_split(x, y, test_size=0.25, shuffle=True, random_state=352)\n",
    "\n",
    "list_of_iter_result = []\n",
    "list_of_iter_data = []\n",
    "\n",
    "x_tr_data, x_ts_data, y_tr_data, y_ts_data = [x_tr], [x_ts], [y_tr], [y_ts]\n",
    "\n",
    "for d in range(10):\n",
    "    ## You can change hyperparameters in here (population, generation, etc)\n",
    "    gp = SymbolicRegressor(population_size=4000, generations=15, init_depth=(1, 2), metric='pearson',\n",
    "                            feature_names=feature_name, parsimony_coefficient=0.02,\n",
    "                            tournament_size=100, stopping_criteria=0.75-d*0.01, low_memory=True, n_jobs=16)\n",
    "\n",
    "\n",
    "    gp.fit(x_tr_data[0], y_tr_data[-1])\n",
    "\n",
    "    x_tr_descriptor = gp.predict(x_tr_data[0]).reshape(-1, 1)\n",
    "    x_ts_descriptor = gp.predict(x_ts_data[0]).reshape(-1, 1)\n",
    "\n",
    "    \n",
    "\n",
    "    x_tr_data.append(x_tr_descriptor)\n",
    "    x_ts_data.append(x_ts_descriptor)\n",
    "    \n",
    "\n",
    "    program = str(gp._program)\n",
    "\n",
    "    X_tr, X_ts = x_tr_data[1:], x_ts_data[1:]\n",
    "\n",
    "    X_tr = assign(X_tr)\n",
    "    X_ts = assign(X_ts)\n",
    "\n",
    "    pred_tr, pred_ts, tr_result, ts_result = LR(X_tr, X_ts, y_tr_data[0], y_ts_data[0], 1, d + 1)\n",
    "\n",
    "    res_tr, res_ts = y_tr_data[0] - pred_tr, y_ts_data[0] - pred_ts\n",
    "    y_tr_data.append(res_tr)\n",
    "    y_ts_data.append(res_ts)\n",
    "    print(f'{d+1} Dimension - {program}')\n",
    "    print(f'{d+1} Dimension - Training : {tr_result} | Test : {ts_result}')\n",
    "\n",
    "list_of_data = [x_tr_data, x_ts_data, y_tr_data, y_ts_data]\n",
    "\n",
    "list_of_iter_data.append(list_of_data)"
   ]
  },
  {
   "cell_type": "code",
   "execution_count": null,
   "metadata": {},
   "outputs": [],
   "source": []
  }
 ],
 "metadata": {
  "kernelspec": {
   "display_name": "Python 3.8.3 ('base')",
   "language": "python",
   "name": "python3"
  },
  "language_info": {
   "codemirror_mode": {
    "name": "ipython",
    "version": 3
   },
   "file_extension": ".py",
   "mimetype": "text/x-python",
   "name": "python",
   "nbconvert_exporter": "python",
   "pygments_lexer": "ipython3",
   "version": "3.8.3"
  },
  "orig_nbformat": 4,
  "vscode": {
   "interpreter": {
    "hash": "bf0eb061f6db49036dd9042a11eed065a84f4c36216f2f89e069dfd173229e78"
   }
  }
 },
 "nbformat": 4,
 "nbformat_minor": 2
}
