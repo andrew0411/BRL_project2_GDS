{
 "cells": [
  {
   "cell_type": "code",
   "execution_count": 28,
   "metadata": {},
   "outputs": [],
   "source": [
    "import os\n",
    "import pandas as pd\n",
    "import numpy as np\n",
    "import pickle\n",
    "from sklearn.metrics import r2_score\n",
    "from sklearn.linear_model import  Ridge"
   ]
  },
  {
   "cell_type": "code",
   "execution_count": 31,
   "metadata": {},
   "outputs": [
    {
     "name": "stdout",
     "output_type": "stream",
     "text": [
      "['2', '4']\n"
     ]
    }
   ],
   "source": [
    "path = './descriptor_sample/'\n",
    "in_path = os.listdir(path)\n",
    "in_path = sorted(in_path)\n",
    "print(in_path)"
   ]
  },
  {
   "cell_type": "code",
   "execution_count": 32,
   "metadata": {},
   "outputs": [
    {
     "name": "stdout",
     "output_type": "stream",
     "text": [
      "Data : 2\n",
      "Dimension :  0 | Training R2 : 0.4635 | Test R2 : 0.7634\n",
      "Dimension :  1 | Training R2 : 0.6078 | Test R2 : 0.7635\n",
      "Dimension :  2 | Training R2 : 0.6690 | Test R2 : 0.7661\n",
      "Dimension :  3 | Training R2 : 0.6690 | Test R2 : 0.7661\n",
      "Dimension :  4 | Training R2 : 0.6717 | Test R2 : 0.7648\n",
      "Dimension :  5 | Training R2 : 0.6717 | Test R2 : 0.7648\n",
      "Dimension :  6 | Training R2 : 0.6833 | Test R2 : 0.7619\n",
      "Dimension :  7 | Training R2 : 0.6833 | Test R2 : 0.7619\n",
      "Dimension :  8 | Training R2 : 0.7365 | Test R2 : 0.7671\n",
      "Dimension :  9 | Training R2 : 0.7798 | Test R2 : 0.7707\n",
      "Data : 4\n",
      "Dimension :  0 | Training R2 : 0.4697 | Test R2 : 0.4590\n",
      "Dimension :  1 | Training R2 : 0.5033 | Test R2 : 0.5258\n",
      "Dimension :  2 | Training R2 : 0.5164 | Test R2 : 0.5581\n",
      "Dimension :  3 | Training R2 : 0.6330 | Test R2 : 0.8762\n",
      "Dimension :  4 | Training R2 : 0.6800 | Test R2 : 0.8286\n",
      "Dimension :  5 | Training R2 : 0.6982 | Test R2 : 0.8131\n",
      "Dimension :  6 | Training R2 : 0.7552 | Test R2 : 0.8301\n",
      "Dimension :  7 | Training R2 : 0.7739 | Test R2 : 0.8235\n",
      "Dimension :  8 | Training R2 : 0.7941 | Test R2 : 0.7725\n",
      "Dimension :  9 | Training R2 : 0.8127 | Test R2 : 0.7571\n"
     ]
    },
    {
     "name": "stderr",
     "output_type": "stream",
     "text": [
      "/home/hwan/anaconda3/lib/python3.8/site-packages/sklearn/linear_model/_ridge.py:147: LinAlgWarning: Ill-conditioned matrix (rcond=3.66271e-26): result may not be accurate.\n",
      "  return linalg.solve(A, Xy, sym_pos=True,\n",
      "/home/hwan/anaconda3/lib/python3.8/site-packages/sklearn/linear_model/_ridge.py:147: LinAlgWarning: Ill-conditioned matrix (rcond=3.64065e-26): result may not be accurate.\n",
      "  return linalg.solve(A, Xy, sym_pos=True,\n",
      "/home/hwan/anaconda3/lib/python3.8/site-packages/sklearn/linear_model/_ridge.py:147: LinAlgWarning: Ill-conditioned matrix (rcond=2.17859e-167): result may not be accurate.\n",
      "  return linalg.solve(A, Xy, sym_pos=True,\n",
      "/home/hwan/anaconda3/lib/python3.8/site-packages/sklearn/linear_model/_ridge.py:147: LinAlgWarning: Ill-conditioned matrix (rcond=2.13191e-167): result may not be accurate.\n",
      "  return linalg.solve(A, Xy, sym_pos=True,\n",
      "/home/hwan/anaconda3/lib/python3.8/site-packages/sklearn/linear_model/_ridge.py:147: LinAlgWarning: Ill-conditioned matrix (rcond=2.09771e-167): result may not be accurate.\n",
      "  return linalg.solve(A, Xy, sym_pos=True,\n",
      "/home/hwan/anaconda3/lib/python3.8/site-packages/sklearn/linear_model/_ridge.py:147: LinAlgWarning: Ill-conditioned matrix (rcond=2.03779e-167): result may not be accurate.\n",
      "  return linalg.solve(A, Xy, sym_pos=True,\n",
      "/home/hwan/anaconda3/lib/python3.8/site-packages/sklearn/linear_model/_ridge.py:147: LinAlgWarning: Ill-conditioned matrix (rcond=2.00809e-167): result may not be accurate.\n",
      "  return linalg.solve(A, Xy, sym_pos=True,\n"
     ]
    }
   ],
   "source": [
    "for p in in_path:\n",
    "    data_dir = path + p\n",
    "\n",
    "    with open(data_dir + '/x_tr.pickle', 'rb') as f:\n",
    "        x_tr = pickle.load(f)\n",
    "    with open(data_dir + '/x_ts.pickle', 'rb') as f:\n",
    "        x_ts = pickle.load(f)\n",
    "    with open(data_dir + '/y_tr.pickle', 'rb') as f:\n",
    "        y_tr = pickle.load(f)\n",
    "    with open(data_dir + '/y_ts.pickle', 'rb') as f:\n",
    "        y_ts = pickle.load(f)\n",
    "    print(f'Data : {p}')\n",
    "    for d in range(10):\n",
    "        \n",
    "        x_tr_d = x_tr[:,:(d+1)]\n",
    "        x_ts_d = x_ts[:,:(d+1)]\n",
    "        model = Ridge(alpha=1.,max_iter=100,tol=0.1).fit(x_tr_d, y_tr)\n",
    "        pred_tr, pred_ts = model.predict(x_tr_d), model.predict(x_ts_d)\n",
    "        tr_r2, ts_r2 = r2_score(y_tr, pred_tr), r2_score(y_ts, pred_ts)\n",
    "        print(f'Dimension : {d:2} | Training R2 : {tr_r2:.4f} | Test R2 : {ts_r2:.4f}')\n"
   ]
  },
  {
   "cell_type": "code",
   "execution_count": null,
   "metadata": {},
   "outputs": [],
   "source": []
  }
 ],
 "metadata": {
  "kernelspec": {
   "display_name": "Python 3.8.3 ('base')",
   "language": "python",
   "name": "python3"
  },
  "language_info": {
   "codemirror_mode": {
    "name": "ipython",
    "version": 3
   },
   "file_extension": ".py",
   "mimetype": "text/x-python",
   "name": "python",
   "nbconvert_exporter": "python",
   "pygments_lexer": "ipython3",
   "version": "3.8.3"
  },
  "orig_nbformat": 4,
  "vscode": {
   "interpreter": {
    "hash": "bf0eb061f6db49036dd9042a11eed065a84f4c36216f2f89e069dfd173229e78"
   }
  }
 },
 "nbformat": 4,
 "nbformat_minor": 2
}
