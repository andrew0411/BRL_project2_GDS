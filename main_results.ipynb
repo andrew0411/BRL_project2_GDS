{
 "cells": [
  {
   "cell_type": "code",
   "execution_count": 1,
   "metadata": {},
   "outputs": [],
   "source": [
    "import os\n",
    "import pandas as pd\n",
    "import numpy as np\n",
    "import pickle\n",
    "from sklearn.metrics import r2_score\n",
    "from sklearn.linear_model import LinearRegression, Ridge"
   ]
  },
  {
   "cell_type": "code",
   "execution_count": 2,
   "metadata": {},
   "outputs": [
    {
     "name": "stdout",
     "output_type": "stream",
     "text": [
      "['0', '1', '2', '3', '4']\n"
     ]
    }
   ],
   "source": [
    "path = './descriptors/'\n",
    "in_path = os.listdir(path)\n",
    "print(in_path)"
   ]
  },
  {
   "cell_type": "code",
   "execution_count": 3,
   "metadata": {},
   "outputs": [],
   "source": [
    "data_all = []\n",
    "\n",
    "for p in in_path:\n",
    "    data_dir = path + p\n",
    "\n",
    "    with open(data_dir + '/x_tr.pkl', 'rb') as f:\n",
    "        x_tr = pickle.load(f)\n",
    "    with open(data_dir + '/x_ts.pkl', 'rb') as f:\n",
    "        x_ts = pickle.load(f)\n",
    "    with open(data_dir + '/y_tr.pkl', 'rb') as f:\n",
    "        y_tr = pickle.load(f)\n",
    "    with open(data_dir + '/y_ts.pkl', 'rb') as f:\n",
    "        y_ts = pickle.load(f)\n",
    "\n",
    "    data_all.append([x_tr, x_ts, y_tr, y_ts])"
   ]
  },
  {
   "cell_type": "code",
   "execution_count": 7,
   "metadata": {},
   "outputs": [
    {
     "name": "stdout",
     "output_type": "stream",
     "text": [
      "Data : 0\n",
      "Dimension :  2 | Training R2 : 0.6302 | Test R2 : 0.7306\n",
      "Dimension :  3 | Training R2 : 0.6391 | Test R2 : 0.7451\n",
      "Dimension :  4 | Training R2 : 0.7161 | Test R2 : 0.6913\n",
      "Dimension :  5 | Training R2 : 0.7819 | Test R2 : 0.6419\n",
      "Dimension :  6 | Training R2 : 0.8204 | Test R2 : 0.6644\n",
      "Dimension :  7 | Training R2 : 0.8397 | Test R2 : 0.6482\n",
      "Dimension :  8 | Training R2 : 0.8603 | Test R2 : 0.6793\n",
      "Dimension :  9 | Training R2 : 0.8698 | Test R2 : 0.6829\n",
      "Dimension : 10 | Training R2 : 0.8909 | Test R2 : 0.6489\n",
      "Dimension : 11 | Training R2 : 0.8910 | Test R2 : 0.6515\n",
      "Data : 1\n",
      "Dimension :  2 | Training R2 : 0.6883 | Test R2 : 0.6458\n",
      "Dimension :  3 | Training R2 : 0.6883 | Test R2 : 0.6458\n",
      "Dimension :  4 | Training R2 : 0.7332 | Test R2 : 0.7022\n",
      "Dimension :  5 | Training R2 : 0.7871 | Test R2 : 0.6687\n",
      "Dimension :  6 | Training R2 : 0.8009 | Test R2 : 0.6855\n",
      "Dimension :  7 | Training R2 : 0.8298 | Test R2 : 0.6786\n",
      "Dimension :  8 | Training R2 : 0.8550 | Test R2 : 0.7391\n",
      "Dimension :  9 | Training R2 : 0.8644 | Test R2 : 0.7457\n",
      "Dimension : 10 | Training R2 : 0.8644 | Test R2 : 0.7457\n",
      "Dimension : 11 | Training R2 : 0.8695 | Test R2 : 0.7570\n",
      "Data : 2\n",
      "Dimension :  2 | Training R2 : 0.5304 | Test R2 : 0.7933\n",
      "Dimension :  3 | Training R2 : 0.5304 | Test R2 : 0.7933\n",
      "Dimension :  4 | Training R2 : 0.6035 | Test R2 : 0.7745\n",
      "Dimension :  5 | Training R2 : 0.6563 | Test R2 : 0.7879\n",
      "Dimension :  6 | Training R2 : 0.6549 | Test R2 : 0.7911\n",
      "Dimension :  7 | Training R2 : 0.6563 | Test R2 : 0.7863\n",
      "Dimension :  8 | Training R2 : 0.6564 | Test R2 : 0.7838\n",
      "Dimension :  9 | Training R2 : 0.6551 | Test R2 : 0.7879\n",
      "Dimension : 10 | Training R2 : 0.6551 | Test R2 : 0.7843\n",
      "Dimension : 11 | Training R2 : 0.6590 | Test R2 : 0.7994\n",
      "Data : 3\n",
      "Dimension :  2 | Training R2 : 0.4638 | Test R2 : 0.6402\n",
      "Dimension :  3 | Training R2 : 0.4638 | Test R2 : 0.6402\n",
      "Dimension :  4 | Training R2 : 0.6759 | Test R2 : 0.7025\n",
      "Dimension :  5 | Training R2 : 0.7176 | Test R2 : 0.6041\n",
      "Dimension :  6 | Training R2 : 0.7216 | Test R2 : 0.6018\n",
      "Dimension :  7 | Training R2 : 0.7380 | Test R2 : 0.6498\n",
      "Dimension :  8 | Training R2 : 0.7419 | Test R2 : 0.6660\n",
      "Dimension :  9 | Training R2 : 0.7579 | Test R2 : 0.6772\n",
      "Dimension : 10 | Training R2 : 0.7987 | Test R2 : 0.6874\n",
      "Dimension : 11 | Training R2 : 0.8014 | Test R2 : 0.6798\n",
      "Data : 4\n",
      "Dimension :  2 | Training R2 : 0.4725 | Test R2 : 0.4810\n",
      "Dimension :  3 | Training R2 : 0.4725 | Test R2 : 0.4810\n",
      "Dimension :  4 | Training R2 : 0.5915 | Test R2 : 0.6228\n",
      "Dimension :  5 | Training R2 : 0.6603 | Test R2 : 0.6444\n",
      "Dimension :  6 | Training R2 : 0.7847 | Test R2 : 0.6889\n",
      "Dimension :  7 | Training R2 : 0.7847 | Test R2 : 0.6889\n",
      "Dimension :  8 | Training R2 : 0.7847 | Test R2 : 0.6889\n",
      "Dimension :  9 | Training R2 : 0.7847 | Test R2 : 0.6889\n",
      "Dimension : 10 | Training R2 : 0.7862 | Test R2 : 0.6942\n",
      "Dimension : 11 | Training R2 : 0.7862 | Test R2 : 0.6942\n"
     ]
    }
   ],
   "source": [
    "def extend_x(x_list, dimension):\n",
    "\n",
    "    if dimension < 1:\n",
    "        print('Wrong dimension')\n",
    "        return\n",
    "    \n",
    "    x = x_list[1]\n",
    "    \n",
    "    for i in range(dimension - 1):\n",
    "        x = np.c_[x, x_list[i+1]]\n",
    "    return x\n",
    "\n",
    "meta_r2_list = []\n",
    "\n",
    "for i in range(len(data_all)):\n",
    "\n",
    "    r2_list = []\n",
    "    print(f'Data : {in_path[i]}')\n",
    "    X = data_all[i]\n",
    "    x_tr, x_ts, y_tr, y_ts = (X[j] for j in range(len(X)))\n",
    "\n",
    "    y_tr = y_tr[0]\n",
    "    y_ts = y_ts[0]\n",
    "    \n",
    "\n",
    "    for d in range(1, 11):\n",
    "        x_tr_ = extend_x(x_tr, d)\n",
    "        x_ts_ = extend_x(x_ts, d)\n",
    "        \n",
    "        model = LinearRegression().fit(x_tr_, y_tr)\n",
    "        pred_tr, pred_ts = model.predict(x_tr_), model.predict(x_ts_)\n",
    "\n",
    "        # if d == 10:\n",
    "        #     print(*np.round(model.coef_, 4), sep='\\n')\n",
    "        #     print('intercept : ', model.intercept_)\n",
    "\n",
    "        tr_r2, ts_r2 = r2_score(y_tr, pred_tr), r2_score(y_ts, pred_ts)\n",
    "        r2_list.append([tr_r2, ts_r2])\n",
    "        print(f'Dimension : {d+1:2} | Training R2 : {tr_r2:.4f} | Test R2 : {ts_r2:.4f}')\n",
    "        \n",
    "    meta_r2_list.append(r2_list)\n"
   ]
  },
  {
   "cell_type": "code",
   "execution_count": 8,
   "metadata": {},
   "outputs": [
    {
     "name": "stdout",
     "output_type": "stream",
     "text": [
      "Dimension : 1 | Training : 0.5571 + 0.0884 | Test avg : 0.6582 + 0.1052\n",
      "Dimension : 2 | Training : 0.5588 + 0.0900 | Test avg : 0.6611 + 0.1074\n",
      "Dimension : 3 | Training : 0.6640 + 0.0575 | Test avg : 0.6987 + 0.0481\n",
      "Dimension : 4 | Training : 0.7206 + 0.0565 | Test avg : 0.6694 + 0.0628\n",
      "Dimension : 5 | Training : 0.7565 + 0.0606 | Test avg : 0.6863 + 0.0610\n",
      "Dimension : 6 | Training : 0.7697 + 0.0672 | Test avg : 0.6903 + 0.0506\n",
      "Dimension : 7 | Training : 0.7796 + 0.0759 | Test avg : 0.7114 + 0.0438\n",
      "Dimension : 8 | Training : 0.7864 + 0.0789 | Test avg : 0.7165 + 0.0433\n",
      "Dimension : 9 | Training : 0.7991 + 0.0820 | Test avg : 0.7121 + 0.0475\n",
      "Dimension : 10 | Training : 0.8014 + 0.0814 | Test avg : 0.7164 + 0.0540\n"
     ]
    }
   ],
   "source": [
    "for i in range(10):\n",
    "    tr_ = []\n",
    "    ts_ = []\n",
    "    for j in range(len(meta_r2_list)):\n",
    "        tr_.append(meta_r2_list[j][i][0])\n",
    "        ts_.append(meta_r2_list[j][i][1])\n",
    "    \n",
    "    tr_avg, tr_std = np.average(tr_), np.std(tr_)\n",
    "    ts_avg, ts_std = np.average(ts_), np.std(ts_)\n",
    "\n",
    "    \n",
    "\n",
    "    print(f'Dimension : {i+1} | Training : {tr_avg:.4f} + {tr_std:.4f} | Test avg : {ts_avg:.4f} + {ts_std:.4f}')",
    "# This results are same as the reported results on the paper"
   ]
  }
 ],
 "metadata": {
  "kernelspec": {
   "display_name": "base",
   "language": "python",
   "name": "python3"
  },
  "language_info": {
   "codemirror_mode": {
    "name": "ipython",
    "version": 3
   },
   "file_extension": ".py",
   "mimetype": "text/x-python",
   "name": "python",
   "nbconvert_exporter": "python",
   "pygments_lexer": "ipython3",
   "version": "3.9.13"
  },
  "orig_nbformat": 4
 },
 "nbformat": 4,
 "nbformat_minor": 2
}
